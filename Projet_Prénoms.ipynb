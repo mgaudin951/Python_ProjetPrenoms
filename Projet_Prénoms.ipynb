{
 "cells": [
  {
   "cell_type": "markdown",
   "metadata": {},
   "source": [
    "   # Création du DataFrame"
   ]
  },
  {
   "cell_type": "code",
   "execution_count": 4,
   "metadata": {},
   "outputs": [
    {
     "data": {
      "text/html": [
       "<div>\n",
       "<style scoped>\n",
       "    .dataframe tbody tr th:only-of-type {\n",
       "        vertical-align: middle;\n",
       "    }\n",
       "\n",
       "    .dataframe tbody tr th {\n",
       "        vertical-align: top;\n",
       "    }\n",
       "\n",
       "    .dataframe thead th {\n",
       "        text-align: right;\n",
       "    }\n",
       "</style>\n",
       "<table border=\"1\" class=\"dataframe\">\n",
       "  <thead>\n",
       "    <tr style=\"text-align: right;\">\n",
       "      <th></th>\n",
       "      <th>sexe</th>\n",
       "      <th>preusuel</th>\n",
       "      <th>annais</th>\n",
       "      <th>dpt</th>\n",
       "      <th>nombre</th>\n",
       "    </tr>\n",
       "  </thead>\n",
       "  <tbody>\n",
       "    <tr>\n",
       "      <td>0</td>\n",
       "      <td>1</td>\n",
       "      <td>A</td>\n",
       "      <td>NaN</td>\n",
       "      <td>NaN</td>\n",
       "      <td>27</td>\n",
       "    </tr>\n",
       "    <tr>\n",
       "      <td>1</td>\n",
       "      <td>1</td>\n",
       "      <td>AADAM</td>\n",
       "      <td>NaN</td>\n",
       "      <td>NaN</td>\n",
       "      <td>27</td>\n",
       "    </tr>\n",
       "    <tr>\n",
       "      <td>2</td>\n",
       "      <td>1</td>\n",
       "      <td>AADEL</td>\n",
       "      <td>NaN</td>\n",
       "      <td>NaN</td>\n",
       "      <td>55</td>\n",
       "    </tr>\n",
       "    <tr>\n",
       "      <td>3</td>\n",
       "      <td>1</td>\n",
       "      <td>AADIL</td>\n",
       "      <td>1983.0</td>\n",
       "      <td>84.0</td>\n",
       "      <td>3</td>\n",
       "    </tr>\n",
       "    <tr>\n",
       "      <td>4</td>\n",
       "      <td>1</td>\n",
       "      <td>AADIL</td>\n",
       "      <td>1992.0</td>\n",
       "      <td>92.0</td>\n",
       "      <td>3</td>\n",
       "    </tr>\n",
       "    <tr>\n",
       "      <td>...</td>\n",
       "      <td>...</td>\n",
       "      <td>...</td>\n",
       "      <td>...</td>\n",
       "      <td>...</td>\n",
       "      <td>...</td>\n",
       "    </tr>\n",
       "    <tr>\n",
       "      <td>3624989</td>\n",
       "      <td>2</td>\n",
       "      <td>ÉYA</td>\n",
       "      <td>2014.0</td>\n",
       "      <td>69.0</td>\n",
       "      <td>3</td>\n",
       "    </tr>\n",
       "    <tr>\n",
       "      <td>3624990</td>\n",
       "      <td>2</td>\n",
       "      <td>ÉYA</td>\n",
       "      <td>NaN</td>\n",
       "      <td>NaN</td>\n",
       "      <td>23</td>\n",
       "    </tr>\n",
       "    <tr>\n",
       "      <td>3624991</td>\n",
       "      <td>2</td>\n",
       "      <td>ÏNAYA</td>\n",
       "      <td>NaN</td>\n",
       "      <td>NaN</td>\n",
       "      <td>21</td>\n",
       "    </tr>\n",
       "    <tr>\n",
       "      <td>3624992</td>\n",
       "      <td>2</td>\n",
       "      <td>ÖZGE</td>\n",
       "      <td>NaN</td>\n",
       "      <td>NaN</td>\n",
       "      <td>30</td>\n",
       "    </tr>\n",
       "    <tr>\n",
       "      <td>3624993</td>\n",
       "      <td>2</td>\n",
       "      <td>ÖZLEM</td>\n",
       "      <td>NaN</td>\n",
       "      <td>NaN</td>\n",
       "      <td>95</td>\n",
       "    </tr>\n",
       "  </tbody>\n",
       "</table>\n",
       "<p>3624994 rows × 5 columns</p>\n",
       "</div>"
      ],
      "text/plain": [
       "         sexe preusuel  annais   dpt  nombre\n",
       "0           1        A     NaN   NaN      27\n",
       "1           1    AADAM     NaN   NaN      27\n",
       "2           1    AADEL     NaN   NaN      55\n",
       "3           1    AADIL  1983.0  84.0       3\n",
       "4           1    AADIL  1992.0  92.0       3\n",
       "...       ...      ...     ...   ...     ...\n",
       "3624989     2      ÉYA  2014.0  69.0       3\n",
       "3624990     2      ÉYA     NaN   NaN      23\n",
       "3624991     2    ÏNAYA     NaN   NaN      21\n",
       "3624992     2     ÖZGE     NaN   NaN      30\n",
       "3624993     2    ÖZLEM     NaN   NaN      95\n",
       "\n",
       "[3624994 rows x 5 columns]"
      ]
     },
     "execution_count": 4,
     "metadata": {},
     "output_type": "execute_result"
    }
   ],
   "source": [
    "import pandas as pd\n",
    "import csv\n",
    "\n",
    "prenoms_df = pd.read_csv(\"/home/campus15/Desktop/Python_Projet_OriginePrenoms/dpt2018.csv\", sep = \";\", na_values = [\"XXXX\", \"XX\"])\n",
    "prenoms_df"
   ]
  },
  {
   "cell_type": "markdown",
   "metadata": {},
   "source": [
    "   # Quelle est la proportion totale Femmes / Hommes au depuis 1900 ?"
   ]
  },
  {
   "cell_type": "code",
   "execution_count": 4,
   "metadata": {},
   "outputs": [
    {
     "data": {
      "text/plain": [
       "Femme    0.536878\n",
       "Homme    0.463122\n",
       "Name: sexe, dtype: float64"
      ]
     },
     "execution_count": 4,
     "metadata": {},
     "output_type": "execute_result"
    }
   ],
   "source": [
    "prenoms_df[\"sexe\"] = prenoms_df.sexe.replace([1, 2], ['Homme', 'Femme']) # Remplace les 1 et 2 par h/f\n",
    "prenoms_df[\"sexe\"].value_counts(normalize = True)"
   ]
  },
  {
   "cell_type": "markdown",
   "metadata": {},
   "source": [
    "   # Evolution de la proportion au cours du temps"
   ]
  },
  {
   "cell_type": "code",
   "execution_count": 2,
   "metadata": {},
   "outputs": [
    {
     "data": {
      "image/png": "[encoded data removed]",
      "text/plain": [
       "<Figure size 432x288 with 1 Axes>"
      ]
     },
     "metadata": {
      "needs_background": "light"
     },
     "output_type": "display_data"
    }
   ],
   "source": [
    "import matplotlib.pyplot as plt\n",
    "import numpy as np\n",
    "\n",
    "sex_year = prenoms_df.loc[:,[\"sexe\", \"annais\", \"nombre\"]].copy()\n",
    "sex_year2 = sex_year.groupby([\"annais\", \"sexe\"]).sum()\n",
    "sex_year2 = sex_year2.groupby(level = 0).apply(lambda x: (x/float(x.sum())*100))\n",
    "\n",
    "%matplotlib inline\n",
    "ax = sex_year2.squeeze().unstack().plot(kind = \"bar\")  #squeeze transforme un dataframe en serie\n",
    "xticks = ax.xaxis.get_major_ticks()\n",
    "\n",
    "for i,tick in enumerate(xticks):  \n",
    "        if i%10 != 0:\n",
    "            tick.label1.set_visible(False)\n",
    "\n",
    "xticks[-1].label1.set_visible(True)\n",
    "\n",
    "plt.title('Proportion of men and women among years')\n",
    "plt.xlabel('Years')\n",
    "plt.ylabel('Proportion')\n",
    "plt.show()"
   ]
  },
  {
   "cell_type": "markdown",
   "metadata": {},
   "source": [
    "   # Regrouper évoultion par decennie (version creation de fonction)"
   ]
  },
  {
   "cell_type": "code",
   "execution_count": 4,
   "metadata": {},
   "outputs": [],
   "source": [
    "step = 10\n",
    "decades = range(1900, 2020, step)\n",
    "d={}\n",
    "for i in decades:\n",
    "    d[i] =  range(i, i+step)\n",
    "    \n",
    "def dec(x):\n",
    "    for decade, years in d.items():\n",
    "        if x in years:\n",
    "            return decade"
   ]
  },
  {
   "cell_type": "code",
   "execution_count": 5,
   "metadata": {},
   "outputs": [
    {
     "data": {
      "text/html": [
       "<div>\n",
       "<style scoped>\n",
       "    .dataframe tbody tr th:only-of-type {\n",
       "        vertical-align: middle;\n",
       "    }\n",
       "\n",
       "    .dataframe tbody tr th {\n",
       "        vertical-align: top;\n",
       "    }\n",
       "\n",
       "    .dataframe thead th {\n",
       "        text-align: right;\n",
       "    }\n",
       "</style>\n",
       "<table border=\"1\" class=\"dataframe\">\n",
       "  <thead>\n",
       "    <tr style=\"text-align: right;\">\n",
       "      <th></th>\n",
       "      <th>sexe</th>\n",
       "      <th>annais</th>\n",
       "      <th>nombre</th>\n",
       "      <th>decennie</th>\n",
       "    </tr>\n",
       "  </thead>\n",
       "  <tbody>\n",
       "    <tr>\n",
       "      <td>0</td>\n",
       "      <td>Homme</td>\n",
       "      <td>NaN</td>\n",
       "      <td>27</td>\n",
       "      <td>NaN</td>\n",
       "    </tr>\n",
       "    <tr>\n",
       "      <td>1</td>\n",
       "      <td>Homme</td>\n",
       "      <td>NaN</td>\n",
       "      <td>27</td>\n",
       "      <td>NaN</td>\n",
       "    </tr>\n",
       "    <tr>\n",
       "      <td>2</td>\n",
       "      <td>Homme</td>\n",
       "      <td>NaN</td>\n",
       "      <td>55</td>\n",
       "      <td>NaN</td>\n",
       "    </tr>\n",
       "    <tr>\n",
       "      <td>3</td>\n",
       "      <td>Homme</td>\n",
       "      <td>1983.0</td>\n",
       "      <td>3</td>\n",
       "      <td>1980.0</td>\n",
       "    </tr>\n",
       "    <tr>\n",
       "      <td>4</td>\n",
       "      <td>Homme</td>\n",
       "      <td>1992.0</td>\n",
       "      <td>3</td>\n",
       "      <td>1990.0</td>\n",
       "    </tr>\n",
       "    <tr>\n",
       "      <td>...</td>\n",
       "      <td>...</td>\n",
       "      <td>...</td>\n",
       "      <td>...</td>\n",
       "      <td>...</td>\n",
       "    </tr>\n",
       "    <tr>\n",
       "      <td>3624989</td>\n",
       "      <td>Femme</td>\n",
       "      <td>2014.0</td>\n",
       "      <td>3</td>\n",
       "      <td>2010.0</td>\n",
       "    </tr>\n",
       "    <tr>\n",
       "      <td>3624990</td>\n",
       "      <td>Femme</td>\n",
       "      <td>NaN</td>\n",
       "      <td>23</td>\n",
       "      <td>NaN</td>\n",
       "    </tr>\n",
       "    <tr>\n",
       "      <td>3624991</td>\n",
       "      <td>Femme</td>\n",
       "      <td>NaN</td>\n",
       "      <td>21</td>\n",
       "      <td>NaN</td>\n",
       "    </tr>\n",
       "    <tr>\n",
       "      <td>3624992</td>\n",
       "      <td>Femme</td>\n",
       "      <td>NaN</td>\n",
       "      <td>30</td>\n",
       "      <td>NaN</td>\n",
       "    </tr>\n",
       "    <tr>\n",
       "      <td>3624993</td>\n",
       "      <td>Femme</td>\n",
       "      <td>NaN</td>\n",
       "      <td>95</td>\n",
       "      <td>NaN</td>\n",
       "    </tr>\n",
       "  </tbody>\n",
       "</table>\n",
       "<p>3624994 rows × 4 columns</p>\n",
       "</div>"
      ],
      "text/plain": [
       "          sexe  annais  nombre  decennie\n",
       "0        Homme     NaN      27       NaN\n",
       "1        Homme     NaN      27       NaN\n",
       "2        Homme     NaN      55       NaN\n",
       "3        Homme  1983.0       3    1980.0\n",
       "4        Homme  1992.0       3    1990.0\n",
       "...        ...     ...     ...       ...\n",
       "3624989  Femme  2014.0       3    2010.0\n",
       "3624990  Femme     NaN      23       NaN\n",
       "3624991  Femme     NaN      21       NaN\n",
       "3624992  Femme     NaN      30       NaN\n",
       "3624993  Femme     NaN      95       NaN\n",
       "\n",
       "[3624994 rows x 4 columns]"
      ]
     },
     "execution_count": 5,
     "metadata": {},
     "output_type": "execute_result"
    }
   ],
   "source": [
    "sex_year[\"decennie\"] = sex_year.annais.apply(dec)\n",
    "sex_year\n",
    "# sex_year.drop(columns=[\"Decennie\"])"
   ]
  },
  {
   "cell_type": "code",
   "execution_count": 6,
   "metadata": {},
   "outputs": [
    {
     "name": "stdout",
     "output_type": "stream",
     "text": [
      "Using matplotlib backend: Qt5Agg\n"
     ]
    }
   ],
   "source": [
    "sex_year_dec = sex_year.loc[:,[\"sexe\", \"decennie\", \"nombre\"]].copy()\n",
    "sex_year_dec = sex_year_dec.groupby([\"decennie\", \"sexe\"]).sum()\n",
    "sex_year_dec = sex_year_dec.groupby(level = 0).apply(lambda x: (x/float(x.sum())*100))\n",
    "\n",
    "%matplotlib\n",
    "ax = sex_year_dec.squeeze().unstack().plot(kind = \"bar\", stacked=False, width = 0.9) #squeeze transforme un dataframe en serie\n",
    "\n",
    "plt.title('Proportion of men and women among years')\n",
    "plt.xlabel('Years')\n",
    "plt.ylabel('Proportion')\n",
    "plt.show()"
   ]
  },
  {
   "cell_type": "markdown",
   "metadata": {},
   "source": [
    "   # Regrouper évoultion par decennie (version .cut)"
   ]
  },
  {
   "cell_type": "code",
   "execution_count": 7,
   "metadata": {},
   "outputs": [
    {
     "name": "stdout",
     "output_type": "stream",
     "text": [
      "Using matplotlib backend: Qt5Agg\n"
     ]
    }
   ],
   "source": [
    "cut_bins = list(range(1900, 2021, 10))\n",
    "cut_labels = cut_bins[:-1]\n",
    "\n",
    "\n",
    "sex_year[\"test_cut\"] = pd.cut(sex_year.annais, bins = cut_bins, labels = cut_labels)\n",
    "\n",
    "sex_year_dec_cut = sex_year.loc[:,[\"sexe\", \"test_cut\", \"nombre\"]].copy()\n",
    "sex_year_dec_cut = sex_year_dec_cut.groupby([\"test_cut\", \"sexe\"]).sum()\n",
    "sex_year_dec_cut = sex_year_dec_cut.groupby(level = 0).apply(lambda x: (x/float(x.sum())*100))\n",
    "\n",
    "%matplotlib\n",
    "ax = sex_year_dec_cut.squeeze().unstack().plot(kind = \"bar\", stacked=False, width = 0.9) #squeeze transforme un dataframe en serie\n",
    "\n",
    "plt.title('Proportion of men and women among years')\n",
    "plt.xlabel('Years')\n",
    "plt.ylabel('Proportion')\n",
    "plt.show()"
   ]
  },
  {
   "cell_type": "markdown",
   "metadata": {},
   "source": [
    "   # En 1900, parmi les 1707 prénoms recensés par l’Insee, le plus donné, Marie,représentait 11% des naissances."
   ]
  },
  {
   "cell_type": "code",
   "execution_count": 8,
   "metadata": {},
   "outputs": [
    {
     "data": {
      "text/plain": [
       "16.93386773547094"
      ]
     },
     "execution_count": 8,
     "metadata": {},
     "output_type": "execute_result"
    }
   ],
   "source": [
    "qte_marie = prenoms_df[(prenoms_df.annais == 1900)].preusuel.value_counts()[\"MARIE\"]\n",
    "prop_marie = qte_marie /  len(prenoms_df[(prenoms_df.annais == 1900)].preusuel.unique())*100\n",
    "prop_marie"
   ]
  },
  {
   "cell_type": "markdown",
   "metadata": {},
   "source": [
    "   # En 2017, on recensait 13.000 prénoms différents, soit 7,6 fois plus qu’en 1900."
   ]
  },
  {
   "cell_type": "code",
   "execution_count": 9,
   "metadata": {},
   "outputs": [
    {
     "name": "stdout",
     "output_type": "stream",
     "text": [
      "En 2017 il y avait 4399 prénoms différents. Soit 4.407815631262525 fois plus qu'en 1900.\n"
     ]
    }
   ],
   "source": [
    "name_diff = len(prenoms_df[(prenoms_df.annais == 2017)].preusuel.unique()) \n",
    "fact_name_diff = len(prenoms_df[(prenoms_df.annais == 2017)].preusuel.unique()) / len(prenoms_df[(prenoms_df.annais == 1900)].preusuel.unique())\n",
    "print(\"En 2017 il y avait\", name_diff, \"prénoms différents. Soit\", fact_name_diff, \"fois plus qu'en 1900.\")"
   ]
  },
  {
   "cell_type": "markdown",
   "metadata": {},
   "source": [
    "   # Evolution du prénom Marie dans le temps ?"
   ]
  },
  {
   "cell_type": "code",
   "execution_count": 105,
   "metadata": {},
   "outputs": [],
   "source": [
    "marie_by_year = prenoms_df[(prenoms_df.preusuel == \"MARIE\")].loc[:,[\"annais\", \"preusuel\", \"nombre\"]].copy()\n",
    "marie_by_year = marie_by_year.groupby([\"annais\"]).sum()\n",
    "ax = marie_by_year.plot()\n",
    "plt.title('Proportion of Marie among years')\n",
    "plt.xlabel('Years')\n",
    "plt.ylabel('Proportion of Marie')\n",
    "ax.legend([\"Nombre de Marie\"])\n",
    "plt.show()"
   ]
  },
  {
   "cell_type": "markdown",
   "metadata": {},
   "source": [
    "   # Un pic a été atteint en 2012, avec plus de 13.643 prénoms recensés. "
   ]
  },
  {
   "cell_type": "code",
   "execution_count": 12,
   "metadata": {},
   "outputs": [
    {
     "name": "stdout",
     "output_type": "stream",
     "text": [
      "        nombre\n",
      "annais        \n",
      "1900.0  393432\n",
      "1901.0  431732\n",
      "1902.0  443886\n",
      "1903.0  446633\n",
      "1904.0  456906\n",
      "...        ...\n",
      "2014.0  620578\n",
      "2015.0  602227\n",
      "2016.0  586962\n",
      "2017.0  573677\n",
      "2018.0  564259\n",
      "\n",
      "[119 rows x 1 columns]\n"
     ]
    }
   ],
   "source": [
    "pic_year = prenoms_df.loc[:,[\"preusuel\", \"annais\", \"nombre\"]].copy()\n",
    "pic_year = pic_year.groupby([\"annais\"]).sum()\n",
    "ymax = float(pic_year.idxmax())\n",
    "xmax = float(pic_year.max())\n",
    "ax = pic_year.plot()\n",
    "plt.title('Proportion of names among years')\n",
    "plt.xlabel('Years')\n",
    "plt.ylabel('Proportion of names')\n",
    "ax.legend([\"Nombre de noms\"])\n",
    "plt.axvline(x=ymax, dashes=[5, 5, 5, 5], color = \"red\")\n",
    "plt.axhline(y=xmax, dashes=[5, 5, 5, 5], color = \"red\")\n",
    "plt.text(ymax +1, xmax + 5500,f\"Max : {ymax:.0f}; {xmax:.0f}\", fontsize=9, color = 'red', fontweight='bold')  #le f permet d'afficher des variables \n",
    "#directement en les nommant entre {}. le \":.0f\" indique le nombre de chiffres après la virgule que l'on souhaite ici 0\n",
    "plt.show()"
   ]
  },
  {
   "cell_type": "markdown",
   "metadata": {},
   "source": [
    "# Evolution des prénoms composés contenant Marie au cours du temps (Marie-Pierre, Marie-Paul, ....) ?"
   ]
  },
  {
   "cell_type": "code",
   "execution_count": 106,
   "metadata": {},
   "outputs": [],
   "source": [
    "marie_compose_mask = prenoms_df.preusuel.str.contains('MARIE', na = False)\n",
    "marie_comp = prenoms_df.loc[marie_compose_mask].copy()\n",
    "marie_comp_evolve = marie_comp.loc[:,[\"annais\",\"preusuel\",\"nombre\"]].copy()\n",
    "marie_comp_evolve = marie_comp_evolve.groupby([\"annais\"]).sum()\n",
    "ax = marie_comp_evolve.plot()\n",
    "plt.title('Proportion of composed Marie names among years')\n",
    "plt.xlabel('Years')\n",
    "plt.ylabel('Proportion of composed Marie names')\n",
    "ax.legend([\"Nombre de prénoms composés Marie\"])\n",
    "plt.show()"
   ]
  },
  {
   "cell_type": "markdown",
   "metadata": {},
   "source": [
    "# Combien de prénoms faut-il pour nommer 50% des bébés par année (e.g. en 1900, 27 prénoms suffisent) ?\n"
   ]
  },
  {
   "cell_type": "code",
   "execution_count": 27,
   "metadata": {},
   "outputs": [
    {
     "ename": "NameError",
     "evalue": "name 'plt' is not defined",
     "output_type": "error",
     "traceback": [
      "\u001b[0;31m---------------------------------------------------------------------------\u001b[0m",
      "\u001b[0;31mNameError\u001b[0m                                 Traceback (most recent call last)",
      "\u001b[0;32m<ipython-input-27-1a2bc59a0d4e>\u001b[0m in \u001b[0;36m<module>\u001b[0;34m\u001b[0m\n\u001b[1;32m      9\u001b[0m \u001b[0mnumber_half_name\u001b[0m \u001b[0;34m=\u001b[0m \u001b[0mnumber_half_name\u001b[0m\u001b[0;34m.\u001b[0m\u001b[0mgroupby\u001b[0m\u001b[0;34m(\u001b[0m\u001b[0mlevel\u001b[0m \u001b[0;34m=\u001b[0m \u001b[0;36m0\u001b[0m\u001b[0;34m)\u001b[0m\u001b[0;34m.\u001b[0m\u001b[0msum\u001b[0m\u001b[0;34m(\u001b[0m\u001b[0;34m)\u001b[0m\u001b[0;34m\u001b[0m\u001b[0;34m\u001b[0m\u001b[0m\n\u001b[1;32m     10\u001b[0m \u001b[0max\u001b[0m \u001b[0;34m=\u001b[0m \u001b[0mnumber_half_name\u001b[0m\u001b[0;34m.\u001b[0m\u001b[0mplot\u001b[0m\u001b[0;34m(\u001b[0m\u001b[0;34m)\u001b[0m\u001b[0;34m\u001b[0m\u001b[0;34m\u001b[0m\u001b[0m\n\u001b[0;32m---> 11\u001b[0;31m \u001b[0mplt\u001b[0m\u001b[0;34m.\u001b[0m\u001b[0mtitle\u001b[0m\u001b[0;34m(\u001b[0m\u001b[0;34m'Proportion of number of names (50%) among years'\u001b[0m\u001b[0;34m)\u001b[0m\u001b[0;34m\u001b[0m\u001b[0;34m\u001b[0m\u001b[0m\n\u001b[0m\u001b[1;32m     12\u001b[0m \u001b[0mplt\u001b[0m\u001b[0;34m.\u001b[0m\u001b[0mxlabel\u001b[0m\u001b[0;34m(\u001b[0m\u001b[0;34m'Years'\u001b[0m\u001b[0;34m)\u001b[0m\u001b[0;34m\u001b[0m\u001b[0;34m\u001b[0m\u001b[0m\n\u001b[1;32m     13\u001b[0m \u001b[0mplt\u001b[0m\u001b[0;34m.\u001b[0m\u001b[0mylabel\u001b[0m\u001b[0;34m(\u001b[0m\u001b[0;34m'Proportion of number of names (50%)'\u001b[0m\u001b[0;34m)\u001b[0m\u001b[0;34m\u001b[0m\u001b[0;34m\u001b[0m\u001b[0m\n",
      "\u001b[0;31mNameError\u001b[0m: name 'plt' is not defined"
     ]
    }
   ],
   "source": [
    "half_name = prenoms_df.loc[:,[\"annais\", \"preusuel\", \"nombre\"]].copy()\n",
    "half_name = half_name.groupby([\"annais\", \"preusuel\"]).sum() \n",
    "half_name.loc[(slice(None), \"_PRENOMS_RARES\"), :] #le slice permet de balayer toutes les colonnes à la recherche du mot clé\n",
    "half_name = half_name.drop(level = 1, labels = \"_PRENOMS_RARES\")\n",
    "half_name_sort = half_name.sort_values(by = 'nombre', ascending=False).sort_index(level = 0, sort_remaining = False)\n",
    "number_half_cum = half_name_sort.groupby(level = 0).cumsum()  #level 0 prend en compte la premiere colonne \"annais\", level 1 \"preusuel\"\n",
    "number_half_sum = half_name_sort.groupby(level = 0).sum()\n",
    "number_half_name = (number_half_cum/number_half_sum)<= 0.50\n",
    "number_half_name = number_half_name.groupby(level = 0).sum()\n",
    "ax = number_half_name.plot()\n",
    "plt.title('Proportion of number of names (50%) among years')\n",
    "plt.xlabel('Years')\n",
    "plt.ylabel('Proportion of number of names (50%)')\n",
    "ax.legend([\"Nombre de prénoms (50%)\"])\n",
    "plt.show()"
   ]
  },
  {
   "cell_type": "markdown",
   "metadata": {},
   "source": [
    "# La part des 10 prénoms les plus utilisés a-t-elle bien été divisée par 5 entre 1900 et aujourd’hui ?\n"
   ]
  },
  {
   "cell_type": "markdown",
   "metadata": {},
   "source": [
    "## 1ère façon"
   ]
  },
  {
   "cell_type": "code",
   "execution_count": 17,
   "metadata": {},
   "outputs": [],
   "source": [
    "ten_name = half_name_sort.groupby(level=0, squeeze=True).apply(lambda x: x.nlargest(10, 'nombre'))\n",
    "ten_name_sum = ten_name.groupby(level = 0).sum()\n",
    "ax = ten_name_sum.plot()\n",
    "ymax = float(ten_name_sum.idxmax())\n",
    "xmax = float(ten_name_sum.max())\n",
    "plt.title('Proportion of 10 most present names among years')\n",
    "plt.xlabel('Years')\n",
    "plt.ylabel('Proportion of 10 most present names')\n",
    "ax.legend([\"Proportion des 10 prénoms les plus répandus\"])\n",
    "plt.axvline(x=ymax, dashes=[5, 5, 5, 5], color = \"red\")\n",
    "plt.axhline(y=xmax, dashes=[5, 5, 5, 5], color = \"red\")\n",
    "plt.text(ymax +1, xmax + 2500,f\"Max : {ymax:.0f}; {xmax:.0f}\", fontsize=9, color = 'red', fontweight='bold') \n",
    "plt.show()"
   ]
  },
  {
   "cell_type": "code",
   "execution_count": 27,
   "metadata": {},
   "outputs": [
    {
     "data": {
      "text/plain": [
       "nombre    3.058609\n",
       "dtype: float64"
      ]
     },
     "execution_count": 27,
     "metadata": {},
     "output_type": "execute_result"
    }
   ],
   "source": [
    "ten_name_sum.loc[1900]/ten_name_sum.loc[2018]"
   ]
  },
  {
   "cell_type": "markdown",
   "metadata": {},
   "source": [
    "## 2ème façon"
   ]
  },
  {
   "cell_type": "code",
   "execution_count": 7,
   "metadata": {},
   "outputs": [
    {
     "data": {
      "text/html": [
       "<div>\n",
       "<style scoped>\n",
       "    .dataframe tbody tr th:only-of-type {\n",
       "        vertical-align: middle;\n",
       "    }\n",
       "\n",
       "    .dataframe tbody tr th {\n",
       "        vertical-align: top;\n",
       "    }\n",
       "\n",
       "    .dataframe thead th {\n",
       "        text-align: right;\n",
       "    }\n",
       "</style>\n",
       "<table border=\"1\" class=\"dataframe\">\n",
       "  <thead>\n",
       "    <tr style=\"text-align: right;\">\n",
       "      <th></th>\n",
       "      <th></th>\n",
       "      <th>nombre</th>\n",
       "    </tr>\n",
       "    <tr>\n",
       "      <th>annais</th>\n",
       "      <th>preusuel</th>\n",
       "      <th></th>\n",
       "    </tr>\n",
       "  </thead>\n",
       "  <tbody>\n",
       "    <tr>\n",
       "      <td rowspan=\"5\" valign=\"top\">1900.0</td>\n",
       "      <td>MARIE</td>\n",
       "      <td>49752</td>\n",
       "    </tr>\n",
       "    <tr>\n",
       "      <td>JEAN</td>\n",
       "      <td>14100</td>\n",
       "    </tr>\n",
       "    <tr>\n",
       "      <td>JEANNE</td>\n",
       "      <td>13981</td>\n",
       "    </tr>\n",
       "    <tr>\n",
       "      <td>LOUIS</td>\n",
       "      <td>9051</td>\n",
       "    </tr>\n",
       "    <tr>\n",
       "      <td>MARGUERITE</td>\n",
       "      <td>8058</td>\n",
       "    </tr>\n",
       "    <tr>\n",
       "      <td>...</td>\n",
       "      <td>...</td>\n",
       "      <td>...</td>\n",
       "    </tr>\n",
       "    <tr>\n",
       "      <td rowspan=\"5\" valign=\"top\">2018.0</td>\n",
       "      <td>LUCAS</td>\n",
       "      <td>3978</td>\n",
       "    </tr>\n",
       "    <tr>\n",
       "      <td>JADE</td>\n",
       "      <td>3977</td>\n",
       "    </tr>\n",
       "    <tr>\n",
       "      <td>ADAM</td>\n",
       "      <td>3885</td>\n",
       "    </tr>\n",
       "    <tr>\n",
       "      <td>LOUISE</td>\n",
       "      <td>3765</td>\n",
       "    </tr>\n",
       "    <tr>\n",
       "      <td>ARTHUR</td>\n",
       "      <td>3753</td>\n",
       "    </tr>\n",
       "  </tbody>\n",
       "</table>\n",
       "<p>1190 rows × 1 columns</p>\n",
       "</div>"
      ],
      "text/plain": [
       "                   nombre\n",
       "annais preusuel          \n",
       "1900.0 MARIE        49752\n",
       "       JEAN         14100\n",
       "       JEANNE       13981\n",
       "       LOUIS         9051\n",
       "       MARGUERITE    8058\n",
       "...                   ...\n",
       "2018.0 LUCAS         3978\n",
       "       JADE          3977\n",
       "       ADAM          3885\n",
       "       LOUISE        3765\n",
       "       ARTHUR        3753\n",
       "\n",
       "[1190 rows x 1 columns]"
      ]
     },
     "execution_count": 7,
     "metadata": {},
     "output_type": "execute_result"
    }
   ],
   "source": [
    "half_name_sort.groupby(level=0).apply(lambda x: x.sort_values('nombre', ascending=False).head(10)).droplevel(0)"
   ]
  },
  {
   "cell_type": "markdown",
   "metadata": {},
   "source": [
    "## 3ème façon"
   ]
  },
  {
   "cell_type": "code",
   "execution_count": 8,
   "metadata": {},
   "outputs": [
    {
     "data": {
      "text/plain": [
       "annais  preusuel  \n",
       "1900.0  MARIE         49752\n",
       "        JEAN          14100\n",
       "        JEANNE        13981\n",
       "        LOUIS          9051\n",
       "        MARGUERITE     8058\n",
       "                      ...  \n",
       "2018.0  LUCAS          3978\n",
       "        JADE           3977\n",
       "        ADAM           3885\n",
       "        LOUISE         3765\n",
       "        ARTHUR         3753\n",
       "Name: nombre, Length: 1190, dtype: int64"
      ]
     },
     "execution_count": 8,
     "metadata": {},
     "output_type": "execute_result"
    }
   ],
   "source": [
    "half_name_sort.squeeze().groupby(level=0).nlargest(10).droplevel(0)"
   ]
  },
  {
   "cell_type": "markdown",
   "metadata": {},
   "source": [
    "# Le prénom Loic et sa diffusion depuis la Bretagne"
   ]
  },
  {
   "cell_type": "code",
   "execution_count": 75,
   "metadata": {},
   "outputs": [
    {
     "data": {
      "image/png": "[encoded data removed]",
      "text/plain": [
       "<Figure size 432x288 with 1 Axes>"
      ]
     },
     "metadata": {
      "needs_background": "light"
     },
     "output_type": "display_data"
    }
   ],
   "source": [
    "loic_name = prenoms_df[(prenoms_df.preusuel == 'LOÏC')].loc[:,[\"dpt\",\"annais\", \"nombre\"]].copy()\n",
    "loic_name = loic_name.groupby([\"annais\", \"dpt\"]).sum()\n",
    "bretagne = [22, 29, 35, 56]\n",
    "loic_name_bretagne = loic_name.loc[(slice(None), bretagne), :].copy()\n",
    "loic_name_bretagne = loic_name_bretagne.groupby(level = 0).sum()\n",
    "loic_name_else = loic_name.drop(level = 1, labels = bretagne)\n",
    "loic_name_else = loic_name_else.groupby(level = 0).sum()\n",
    "p1 = loic_name_else.plot()\n",
    "loic_name_bretagne.plot(ax=p1)  # ax=p1 pour plot le deuxieme graphe dans le premier\n",
    "plt.show()"
   ]
  },
  {
   "cell_type": "markdown",
   "metadata": {},
   "source": [
    "# Folium"
   ]
  },
  {
   "cell_type": "code",
   "execution_count": 8,
   "metadata": {},
   "outputs": [],
   "source": [
    "import folium\n",
    "from ipywidgets import interact\n",
    "from folium.plugins import HeatMap"
   ]
  },
  {
   "cell_type": "code",
   "execution_count": 14,
   "metadata": {
    "scrolled": true
   },
   "outputs": [],
   "source": [
    "#import departement\n",
    "import pickle\n",
    "departement = pickle.load(open(\"dico_adress.pkl\",\"rb\"))\n",
    "france_gps = [46.603354, 1.8883335]\n",
    "folium.Map(france_gps, zoom_start=5)\n",
    "carte = folium.Map(france_gps, zoom_start=13)"
   ]
  },
  {
   "cell_type": "code",
   "execution_count": 51,
   "metadata": {},
   "outputs": [
    {
     "data": {
      "text/html": [
       "<div>\n",
       "<style scoped>\n",
       "    .dataframe tbody tr th:only-of-type {\n",
       "        vertical-align: middle;\n",
       "    }\n",
       "\n",
       "    .dataframe tbody tr th {\n",
       "        vertical-align: top;\n",
       "    }\n",
       "\n",
       "    .dataframe thead th {\n",
       "        text-align: right;\n",
       "    }\n",
       "</style>\n",
       "<table border=\"1\" class=\"dataframe\">\n",
       "  <thead>\n",
       "    <tr style=\"text-align: right;\">\n",
       "      <th></th>\n",
       "      <th>dpt</th>\n",
       "      <th>annais</th>\n",
       "      <th>nombre</th>\n",
       "      <th>COORDS</th>\n",
       "    </tr>\n",
       "  </thead>\n",
       "  <tbody>\n",
       "    <tr>\n",
       "      <td>980086</td>\n",
       "      <td>44.0</td>\n",
       "      <td>1926.0</td>\n",
       "      <td>3</td>\n",
       "      <td>[47.216667, -1.55]</td>\n",
       "    </tr>\n",
       "    <tr>\n",
       "      <td>980087</td>\n",
       "      <td>44.0</td>\n",
       "      <td>1928.0</td>\n",
       "      <td>4</td>\n",
       "      <td>[47.216667, -1.55]</td>\n",
       "    </tr>\n",
       "    <tr>\n",
       "      <td>980088</td>\n",
       "      <td>22.0</td>\n",
       "      <td>1929.0</td>\n",
       "      <td>5</td>\n",
       "      <td>[48.516667, -2.783333]</td>\n",
       "    </tr>\n",
       "    <tr>\n",
       "      <td>980089</td>\n",
       "      <td>35.0</td>\n",
       "      <td>1932.0</td>\n",
       "      <td>4</td>\n",
       "      <td>[48.083333, -1.683333]</td>\n",
       "    </tr>\n",
       "    <tr>\n",
       "      <td>980090</td>\n",
       "      <td>22.0</td>\n",
       "      <td>1933.0</td>\n",
       "      <td>3</td>\n",
       "      <td>[48.516667, -2.783333]</td>\n",
       "    </tr>\n",
       "    <tr>\n",
       "      <td>...</td>\n",
       "      <td>...</td>\n",
       "      <td>...</td>\n",
       "      <td>...</td>\n",
       "      <td>...</td>\n",
       "    </tr>\n",
       "    <tr>\n",
       "      <td>984825</td>\n",
       "      <td>92.0</td>\n",
       "      <td>2018.0</td>\n",
       "      <td>7</td>\n",
       "      <td>[48.9, 2.2]</td>\n",
       "    </tr>\n",
       "    <tr>\n",
       "      <td>984826</td>\n",
       "      <td>94.0</td>\n",
       "      <td>2018.0</td>\n",
       "      <td>4</td>\n",
       "      <td>[48.783333, 2.466667]</td>\n",
       "    </tr>\n",
       "    <tr>\n",
       "      <td>984827</td>\n",
       "      <td>95.0</td>\n",
       "      <td>2018.0</td>\n",
       "      <td>3</td>\n",
       "      <td>[49.033333, 2.066667]</td>\n",
       "    </tr>\n",
       "    <tr>\n",
       "      <td>984828</td>\n",
       "      <td>973.0</td>\n",
       "      <td>2018.0</td>\n",
       "      <td>4</td>\n",
       "      <td>[0, 0]</td>\n",
       "    </tr>\n",
       "    <tr>\n",
       "      <td>984829</td>\n",
       "      <td>NaN</td>\n",
       "      <td>NaN</td>\n",
       "      <td>2009</td>\n",
       "      <td>NaN</td>\n",
       "    </tr>\n",
       "  </tbody>\n",
       "</table>\n",
       "<p>4744 rows × 4 columns</p>\n",
       "</div>"
      ],
      "text/plain": [
       "          dpt  annais  nombre                  COORDS\n",
       "980086   44.0  1926.0       3      [47.216667, -1.55]\n",
       "980087   44.0  1928.0       4      [47.216667, -1.55]\n",
       "980088   22.0  1929.0       5  [48.516667, -2.783333]\n",
       "980089   35.0  1932.0       4  [48.083333, -1.683333]\n",
       "980090   22.0  1933.0       3  [48.516667, -2.783333]\n",
       "...       ...     ...     ...                     ...\n",
       "984825   92.0  2018.0       7             [48.9, 2.2]\n",
       "984826   94.0  2018.0       4   [48.783333, 2.466667]\n",
       "984827   95.0  2018.0       3   [49.033333, 2.066667]\n",
       "984828  973.0  2018.0       4                  [0, 0]\n",
       "984829    NaN     NaN    2009                     NaN\n",
       "\n",
       "[4744 rows x 4 columns]"
      ]
     },
     "execution_count": 51,
     "metadata": {},
     "output_type": "execute_result"
    }
   ],
   "source": [
    "loic_name_folium = prenoms_df[(prenoms_df.preusuel == 'LOÏC')].loc[:,[\"dpt\",\"annais\", \"nombre\"]].copy()\n",
    "loic_name_folium[\"COORDS\"]= loic_name_folium.dpt.dropna().apply(lambda x: departement[x])\n",
    "loic_name_folium"
   ]
  },
  {
   "cell_type": "code",
   "execution_count": 39,
   "metadata": {
    "scrolled": false
   },
   "outputs": [
    {
     "data": {
      "text/html": [
       "<div style=\"width:100%;\"><div style=\"position:relative;width:100%;height:0;padding-bottom:60%;\"><iframe src=\"data:text/html;charset=utf-8;base64,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\" style=\"position:absolute;width:100%;height:100%;left:0;top:0;border:none !important;\" allowfullscreen webkitallowfullscreen mozallowfullscreen></iframe></div></div>"
      ],
      "text/plain": [
       "<folium.folium.Map at 0x7fa17ef69ed0>"
      ]
     },
     "execution_count": 39,
     "metadata": {},
     "output_type": "execute_result"
    }
   ],
   "source": [
    "HeatMap([[46.603354, 1.8883335]], 1000).add_to(carte)\n",
    "carte"
   ]
  },
  {
   "cell_type": "code",
   "execution_count": 32,
   "metadata": {},
   "outputs": [
    {
     "data": {
      "text/plain": [
       "{1.0: array([46.2     ,  5.216667]),\n",
       " 3.0: array([46.566667,  3.333333]),\n",
       " 7.0: array([44.733333,  4.6     ]),\n",
       " 15.0: array([44.916667,  2.45    ]),\n",
       " 26.0: array([44.933333,  4.9     ]),\n",
       " 38.0: array([45.166667,  5.716667]),\n",
       " 42.0: array([43.233333,  0.083333]),\n",
       " 43.0: array([45.04,  3.89]),\n",
       " 63.0: array([45.783333,  3.083333]),\n",
       " 69.0: array([45.75,  4.85]),\n",
       " 73.0: array([45.566667,  5.933333]),\n",
       " 74.0: array([45.9     ,  6.116667]),\n",
       " 21.0: array([47.316667,  5.016667]),\n",
       " 25.0: array([47.25    ,  6.033333]),\n",
       " 39.0: array([46.666667,  5.55    ]),\n",
       " 58.0: array([46.983333,  3.166667]),\n",
       " 70.0: array([47.633333,  6.166667]),\n",
       " 71.0: array([46.3     ,  4.833333]),\n",
       " 89.0: array([47.8     ,  3.566667]),\n",
       " 90.0: array([47.633333,  6.866667]),\n",
       " 35.0: array([48.083333, -1.683333]),\n",
       " 22.0: array([48.516667, -2.783333]),\n",
       " 56.0: array([47.666667, -2.75    ]),\n",
       " 29.0: array([48. , -4.1]),\n",
       " 18.0: array([47.083333,  2.4     ]),\n",
       " 28.0: array([48.45,  1.5 ]),\n",
       " 36.0: array([46.816667,  1.7     ]),\n",
       " 37.0: array([47.383333,  0.683333]),\n",
       " 41.0: array([47.583333,  1.333333]),\n",
       " 45.0: array([47.916667,  1.9     ]),\n",
       " 20.0: array([42.3083335,  9.0916665]),\n",
       " 8.0: array([49.766667,  4.716667]),\n",
       " 10.0: array([48.3     ,  4.083333]),\n",
       " 51.0: array([48.958333,  4.366667]),\n",
       " 52.0: array([48.116667,  5.133333]),\n",
       " 54.0: array([48.683333,  6.2     ]),\n",
       " 55.0: array([48.783333,  5.166667]),\n",
       " 57.0: array([49.133333,  6.166667]),\n",
       " 67.0: array([48.583333,  7.75    ]),\n",
       " 68.0: array([48.083333,  7.366667]),\n",
       " 88.0: array([48.183333,  6.45    ]),\n",
       " 971.0: array([0, 0]),\n",
       " 973.0: array([0, 0]),\n",
       " 2.0: array([49.566667,  3.616667]),\n",
       " 59.0: array([50.633333,  3.066667]),\n",
       " 60.0: array([49.433333,  2.083333]),\n",
       " 62.0: array([50.283333,  2.783333]),\n",
       " 80.0: array([49.9,  2.3]),\n",
       " 75.0: array([48.866667,  2.333333]),\n",
       " 77.0: array([48.533333,  2.666667]),\n",
       " 78.0: array([48.8     ,  2.133333]),\n",
       " 91.0: array([48.633333,  2.45    ]),\n",
       " 92.0: array([48.9,  2.2]),\n",
       " 93.0: array([48.9 ,  2.45]),\n",
       " 94.0: array([48.783333,  2.466667]),\n",
       " 95.0: array([49.033333,  2.066667]),\n",
       " 974.0: array([0, 0]),\n",
       " 972.0: array([0, 0]),\n",
       " 14.0: array([49.183333, -0.35    ]),\n",
       " 27.0: array([49.016667,  1.15    ]),\n",
       " 50.0: array([49.116667, -1.083333]),\n",
       " 61.0: array([48.433333,  0.083333]),\n",
       " 76.0: array([49.433333,  1.083333]),\n",
       " 16.0: array([45.65,  0.15]),\n",
       " 17.0: array([46.166667, -1.15    ]),\n",
       " 19.0: array([45.266667,  1.766667]),\n",
       " 23.0: array([46.166667,  1.866667]),\n",
       " 24.0: array([45.183333,  0.716667]),\n",
       " 33.0: array([44.833333, -0.566667]),\n",
       " 40.0: array([43.883333, -0.5     ]),\n",
       " 47.0: array([44.2     ,  0.633333]),\n",
       " 64.0: array([43.3     , -0.366667]),\n",
       " 79.0: array([46.316667, -0.466667]),\n",
       " 86.0: array([46.583333,  0.333333]),\n",
       " 87.0: array([45.85,  1.25]),\n",
       " 9.0: array([42.966667,  1.6     ]),\n",
       " 11.0: array([43.216667,  2.35    ]),\n",
       " 12.0: array([44.333333,  2.566667]),\n",
       " 30.0: array([43.833333,  4.35    ]),\n",
       " 31.0: array([43.6     ,  1.433333]),\n",
       " 32.0: array([43.65    ,  0.583333]),\n",
       " 34.0: array([43.6     ,  3.883333]),\n",
       " 46.0: array([44.433333,  1.433333]),\n",
       " 48.0: array([44.516667,  3.5     ]),\n",
       " 65.0: array([0, 0]),\n",
       " 66.0: array([42.683333,  2.883333]),\n",
       " 81.0: array([43.933333,  2.15    ]),\n",
       " 82.0: array([44.016667,  1.35    ]),\n",
       " 44.0: array([47.216667, -1.55    ]),\n",
       " 49.0: array([47.466667, -0.55    ]),\n",
       " 53.0: array([48.066667, -0.766667]),\n",
       " 72.0: array([48. ,  0.2]),\n",
       " 85.0: array([46.666667, -1.433333]),\n",
       " 4.0: array([44.09,  6.24]),\n",
       " 5.0: array([44.566667,  6.083333]),\n",
       " 6.0: array([43.7 ,  7.25]),\n",
       " 13.0: array([43.3,  5.4]),\n",
       " 83.0: array([43.116667,  5.933333]),\n",
       " 84.0: array([43.95    ,  4.816667])}"
      ]
     },
     "execution_count": 32,
     "metadata": {},
     "output_type": "execute_result"
    }
   ],
   "source": [
    "departement"
   ]
  }
 ],
 "metadata": {
  "kernelspec": {
   "display_name": "Python 3",
   "language": "python",
   "name": "python3"
  },
  "language_info": {
   "codemirror_mode": {
    "name": "ipython",
    "version": 3
   },
   "file_extension": ".py",
   "mimetype": "text/x-python",
   "name": "python",
   "nbconvert_exporter": "python",
   "pygments_lexer": "ipython3",
   "version": "3.7.4"
  },
  "toc": {
   "base_numbering": 1,
   "nav_menu": {},
   "number_sections": true,
   "sideBar": true,
   "skip_h1_title": false,
   "title_cell": "Table of Contents",
   "title_sidebar": "Contents",
   "toc_cell": false,
   "toc_position": {
    "height": "calc(100% - 180px)",
    "left": "10px",
    "top": "150px",
    "width": "327px"
   },
   "toc_section_display": true,
   "toc_window_display": true
  },
  "varInspector": {
   "cols": {
    "lenName": 16,
    "lenType": 16,
    "lenVar": 40
   },
   "kernels_config": {
    "python": {
     "delete_cmd_postfix": "",
     "delete_cmd_prefix": "del ",
     "library": "var_list.py",
     "varRefreshCmd": "print(var_dic_list())"
    },
    "r": {
     "delete_cmd_postfix": ") ",
     "delete_cmd_prefix": "rm(",
     "library": "var_list.r",
     "varRefreshCmd": "cat(var_dic_list()) "
    }
   },
   "types_to_exclude": [
    "module",
    "function",
    "builtin_function_or_method",
    "instance",
    "_Feature"
   ],
   "window_display": false
  }
 },
 "nbformat": 4,
 "nbformat_minor": 2
}
